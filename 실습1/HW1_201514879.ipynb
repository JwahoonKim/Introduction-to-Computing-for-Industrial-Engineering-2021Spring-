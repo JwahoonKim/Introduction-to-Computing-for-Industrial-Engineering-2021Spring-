{
 "cells": [
  {
   "cell_type": "code",
   "execution_count": 5,
   "metadata": {},
   "outputs": [
    {
     "output_type": "stream",
     "name": "stdout",
     "text": [
      "14\n"
     ]
    }
   ],
   "source": [
    "price = [44000, 16000, 24000, 160000, 12000, 16000, 80000, 240000, 120000, 720000, 24000, 36000, 12000, 24000, 14000]\n",
    "\n",
    "# do NOT modify the line above!\n",
    "# please write your code below.\n",
    "\n",
    "day = int(input())\n",
    "\n",
    "while(day > 0):\n",
    "    day -= 1\n",
    "    price[0] //= 2\n",
    "    if price[0] < 10000:\n",
    "        del price[0]\n",
    "\n",
    "print(len(price))"
   ]
  },
  {
   "cell_type": "code",
   "execution_count": null,
   "metadata": {},
   "outputs": [],
   "source": []
  }
 ],
 "metadata": {
  "kernelspec": {
   "display_name": "Python 3",
   "language": "python",
   "name": "python3"
  },
  "language_info": {
   "codemirror_mode": {
    "name": "ipython",
    "version": 3
   },
   "file_extension": ".py",
   "mimetype": "text/x-python",
   "name": "python",
   "nbconvert_exporter": "python",
   "pygments_lexer": "ipython3",
   "version": "3.8.5-final"
  }
 },
 "nbformat": 4,
 "nbformat_minor": 4
}