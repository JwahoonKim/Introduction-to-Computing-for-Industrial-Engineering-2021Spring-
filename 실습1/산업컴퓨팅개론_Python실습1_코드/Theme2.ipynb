{
 "cells": [
  {
   "cell_type": "code",
   "execution_count": null,
   "metadata": {},
   "outputs": [],
   "source": [
    "# list를 생성하고 맨 끝에 원소를 추가하기\n",
    "\n",
    "dooly = ['도우너', '고길동', '마이콜']\n",
    "dooly.append('희동이')\n",
    "print(dooly)"
   ]
  },
  {
   "cell_type": "code",
   "execution_count": null,
   "metadata": {},
   "outputs": [],
   "source": [
    "# list를 생성하고 원하는 위치에 원소를 추가하기\n",
    "\n",
    "dooly = ['도우너', '고길동', '마이콜']\n",
    "dooly.insert(2, '희동이')\n",
    "print(dooly)"
   ]
  },
  {
   "cell_type": "code",
   "execution_count": null,
   "metadata": {},
   "outputs": [],
   "source": [
    "# list에서 index를 아는 원소의 값을 출력하고 index를 이용해 원소 없애기\n",
    "\n",
    "dooly = ['도우너', '고길동', '마이콜']\n",
    "print(dooly[1])\n",
    "del dooly[2]\n",
    "print(dooly)"
   ]
  },
  {
   "cell_type": "code",
   "execution_count": null,
   "metadata": {},
   "outputs": [],
   "source": [
    "# 위치를 모르지만 값을 아는 list의 특정 원소 없애기\n",
    "\n",
    "dooly = ['도우너', '고길동', '마이콜']\n",
    "dooly.remove('마이콜')\n",
    "print(dooly)"
   ]
  },
  {
   "cell_type": "code",
   "execution_count": null,
   "metadata": {},
   "outputs": [],
   "source": [
    "# 주어진 list에 특정 원소가 존재하는지 확인하기\n",
    "\n",
    "dooly = ['도우너', '고길동', '마이콜', '희동이']\n",
    "if ('고길동' in dooly) :\n",
    "    print('Welcome to Dooly World!')"
   ]
  },
  {
   "cell_type": "code",
   "execution_count": null,
   "metadata": {},
   "outputs": [],
   "source": [
    "# list에서 원소의 index 찾기\n",
    "\n",
    "dooly = ['도우너', '고길동', '마이콜', '희동이']\n",
    "dooly.index('고길동')"
   ]
  },
  {
   "cell_type": "code",
   "execution_count": null,
   "metadata": {},
   "outputs": [],
   "source": [
    "# list의 길이 찾기\n",
    "\n",
    "song_name = '어떻게이별까지사랑하겠어널사랑하는거지'\n",
    "len(song_name)"
   ]
  },
  {
   "cell_type": "code",
   "execution_count": null,
   "metadata": {},
   "outputs": [],
   "source": [
    "# dictionary를 생성하고 새로운 원소 추가하기\n",
    "\n",
    "score = {'김철수' : 294, '이영희' : 295, '박민수' : 294}\n",
    "score['최영수'] = 290\n",
    "print(score)"
   ]
  },
  {
   "cell_type": "code",
   "execution_count": null,
   "metadata": {},
   "outputs": [],
   "source": [
    "# dictionary에서 특정한 key 값을 갖는 원소의 존재 여부 확인하기\n",
    "\n",
    "score = {'김철수' : 294, '이영희' : 295, '박민수' : 294}\n",
    "if ('이영희' in score) : \n",
    "    print('SEARCH FINISHED')"
   ]
  },
  {
   "cell_type": "code",
   "execution_count": null,
   "metadata": {},
   "outputs": [],
   "source": [
    "# dictionary에서 특정한 key 값에 대응하는 value를 찾기\n",
    "\n",
    "score = {'김철수' : 294, '이영희' : 295, '박민수' : 294}\n",
    "score['이영희']"
   ]
  }
 ],
 "metadata": {
  "kernelspec": {
   "display_name": "Python 3",
   "language": "python",
   "name": "python3"
  },
  "language_info": {
   "codemirror_mode": {
    "name": "ipython",
    "version": 3
   },
   "file_extension": ".py",
   "mimetype": "text/x-python",
   "name": "python",
   "nbconvert_exporter": "python",
   "pygments_lexer": "ipython3",
   "version": "3.8.3"
  }
 },
 "nbformat": 4,
 "nbformat_minor": 4
}
