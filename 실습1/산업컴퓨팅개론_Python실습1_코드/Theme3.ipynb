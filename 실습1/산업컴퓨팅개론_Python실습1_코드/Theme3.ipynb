{
 "cells": [
  {
   "cell_type": "code",
   "execution_count": null,
   "metadata": {},
   "outputs": [],
   "source": [
    "# 주어진 십진수를 이진수로 변환\n",
    "\n",
    "num = input('십진수를 입력하세요 : ')\n",
    "num = int(num)\n",
    "binary = []\n",
    "\n",
    "while (num > 0) :\n",
    "    remainder = num % 2\n",
    "    binary.insert(0, remainder)\n",
    "    num = num // 2\n",
    "\n",
    "print(binary)"
   ]
  },
  {
   "cell_type": "code",
   "execution_count": null,
   "metadata": {},
   "outputs": [],
   "source": [
    "# 주어진 이진수를 십진수로 변환\n",
    "\n",
    "binary = input('이진수를 입력하세요 : ')\n",
    "length = len(binary)\n",
    "i = 1\n",
    "sum = 0\n",
    "\n",
    "while (i <= length) :\n",
    "    sum = sum + int(binary[-i]) * (2 ** (i - 1))\n",
    "    i = i + 1\n",
    "\n",
    "print(sum)"
   ]
  }
 ],
 "metadata": {
  "kernelspec": {
   "display_name": "Python 3",
   "language": "python",
   "name": "python3"
  },
  "language_info": {
   "codemirror_mode": {
    "name": "ipython",
    "version": 3
   },
   "file_extension": ".py",
   "mimetype": "text/x-python",
   "name": "python",
   "nbconvert_exporter": "python",
   "pygments_lexer": "ipython3",
   "version": "3.8.3"
  }
 },
 "nbformat": 4,
 "nbformat_minor": 4
}
