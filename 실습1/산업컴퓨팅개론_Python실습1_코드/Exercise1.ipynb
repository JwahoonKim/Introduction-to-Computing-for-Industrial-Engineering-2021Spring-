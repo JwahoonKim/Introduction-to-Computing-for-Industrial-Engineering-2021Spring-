{
 "cells": [
  {
   "cell_type": "code",
   "execution_count": 2,
   "metadata": {},
   "outputs": [
    {
     "output_type": "stream",
     "name": "stdout",
     "text": [
      "5\n"
     ]
    }
   ],
   "source": [
    "# please write your code below.\n",
    "star = 0\n",
    "while(1):\n",
    "    price = input()\n",
    "    if price == \"x\":\n",
    "        break\n",
    "    else:\n",
    "        price = int(price)\n",
    "        if price >= 5000:\n",
    "            star += 3\n",
    "        else:\n",
    "            star += 1\n",
    "print(star)\n"
   ]
  }
 ],
 "metadata": {
  "kernelspec": {
   "display_name": "Python 3",
   "language": "python",
   "name": "python3"
  },
  "language_info": {
   "codemirror_mode": {
    "name": "ipython",
    "version": 3
   },
   "file_extension": ".py",
   "mimetype": "text/x-python",
   "name": "python",
   "nbconvert_exporter": "python",
   "pygments_lexer": "ipython3",
   "version": "3.8.5-final"
  }
 },
 "nbformat": 4,
 "nbformat_minor": 4
}