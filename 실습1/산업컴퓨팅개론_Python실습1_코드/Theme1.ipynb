{
 "cells": [
  {
   "cell_type": "code",
   "execution_count": null,
   "metadata": {},
   "outputs": [],
   "source": [
    "# 몫, 나머지, 거듭제곱을 구하는 연산자\n",
    "\n",
    "print(3 % 2)\n",
    "print(10 // 3)\n",
    "print(2 ** 5)"
   ]
  },
  {
   "cell_type": "code",
   "execution_count": null,
   "metadata": {},
   "outputs": [],
   "source": [
    "# 변수의 선언과 활용 및 출력\n",
    "\n",
    "num = 3\n",
    "num = num + 2\n",
    "print('three plus two equals to', num)"
   ]
  },
  {
   "cell_type": "code",
   "execution_count": null,
   "metadata": {},
   "outputs": [],
   "source": [
    "# 사용자로부터 입력받기\n",
    "\n",
    "food = input('I want to eat... : ')"
   ]
  },
  {
   "cell_type": "code",
   "execution_count": null,
   "metadata": {},
   "outputs": [],
   "source": [
    "# 구독자 수가 777명일 때, 경품을 증정하는 조건문\n",
    "\n",
    "gudok = input('당신의 구독자 수는?')\n",
    "gudok = int(gudok)\n",
    "\n",
    "if (gudok == 777) :\n",
    "    print('축하합니다! 경품 당첨! 39동에서 수령하세요.')\n",
    "else :\n",
    "    print('아쉽습니다. 다음 기회에...')"
   ]
  },
  {
   "cell_type": "code",
   "execution_count": null,
   "metadata": {},
   "outputs": [],
   "source": [
    "# 1부터 9까지 순차적으로 반복하여 출력하기\n",
    "\n",
    "num = 1\n",
    "\n",
    "while (num < 10) :\n",
    "    print(num)\n",
    "    num = num + 1"
   ]
  },
  {
   "cell_type": "code",
   "execution_count": null,
   "metadata": {},
   "outputs": [],
   "source": [
    "# while (True) 구문을 활용한 퀴즈 프로그램\n",
    "\n",
    "while (True) :\n",
    "    ans = input('산업공학과는 서울대학교 관악캠퍼스 몇 동에 있을까요?')\n",
    "    if (ans == '39') :\n",
    "        print('정답! 짝짝짝')\n",
    "        break\n",
    "    else :\n",
    "        print('세상에, 다시 풀어보세요...')"
   ]
  }
 ],
 "metadata": {
  "kernelspec": {
   "display_name": "Python 3",
   "language": "python",
   "name": "python3"
  },
  "language_info": {
   "codemirror_mode": {
    "name": "ipython",
    "version": 3
   },
   "file_extension": ".py",
   "mimetype": "text/x-python",
   "name": "python",
   "nbconvert_exporter": "python",
   "pygments_lexer": "ipython3",
   "version": "3.8.3"
  }
 },
 "nbformat": 4,
 "nbformat_minor": 4
}
