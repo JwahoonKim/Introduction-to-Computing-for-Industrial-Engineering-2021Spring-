{
 "cells": [
  {
   "cell_type": "markdown",
   "metadata": {},
   "source": [
    "### 제출 기한은 5월 17일 오후 11시 59분까지 입니다.\n",
    "\n",
    "### 파일명 틀릴 시에 20% 감점\n",
    "### D+1에 제출: -50%, 그 이후: 0점\n",
    "### 문제 수정사항은 etl 과제 게시판에 공지하겠습니다."
   ]
  },
  {
   "cell_type": "code",
   "execution_count": 1,
   "metadata": {},
   "outputs": [],
   "source": [
    "import pandas as pd"
   ]
  },
  {
   "cell_type": "markdown",
   "metadata": {},
   "source": [
    "## Q1. 결측치 제거\n",
    "\n",
    "titanic.csv 를 읽고 각 컬럼 별로 결측치 수가 30% 이상이면 해당 컬럼을 제거한 뒤 결측치를 포함한 행을 제거하는 함수를 작성하시오.\n",
    "\n",
    "함수의 return 에는 전처리된 데이터 프레임이 나와야 함\n",
    "return 할 데이터프레임은 인덱스가 0부터 재설정되어야 함."
   ]
  },
  {
   "cell_type": "code",
   "execution_count": 2,
   "metadata": {},
   "outputs": [],
   "source": [
    "# titanic.csv 읽기\n",
    "### start your code\n",
    "data = pd.read_csv( 'titanic.csv')\n"
   ]
  },
  {
   "cell_type": "code",
   "execution_count": 3,
   "metadata": {},
   "outputs": [],
   "source": [
    "def delete_na(df):\n",
    "    ### start your code\n",
    "    row_num = len(df)\n",
    "    null_num_list = df.isnull().sum()\n",
    "    \n",
    "    for i in range(len(df.columns) - 1, -1, -1):\n",
    "        null_num = null_num_list[i]\n",
    "        cur_col = df.columns[i]\n",
    "        # 결측치가 30% 이상인 열 삭제\n",
    "        if null_num / row_num >= 0.3:\n",
    "            df.drop(cur_col, axis=1, inplace=True)\n",
    "    # 결측지가 존재하는 행 삭제\n",
    "    df.dropna(inplace=True)\n",
    "    df.reset_index(drop=True, inplace=True)\n",
    "    return df"
   ]
  },
  {
   "cell_type": "code",
   "execution_count": 4,
   "metadata": {},
   "outputs": [
    {
     "output_type": "stream",
     "name": "stdout",
     "text": [
      "(1043, 10)\n"
     ]
    }
   ],
   "source": [
    "data_processed = delete_na(data)\n",
    "print(data_processed.shape)\n",
    "# data_processed"
   ]
  },
  {
   "cell_type": "markdown",
   "metadata": {},
   "source": [
    "## Q2. 자료형 변경\n",
    "위에서 전처리된 데이터프레임을 읽고 Age 컬럼의 타입을 integer로 바꾸고, Sex, Passenger Class, Port of Embarkation 컬럼은 더미변수로 바꾸는 함수를 작성하시오. (데이터 병합 이용)\n",
    "\n",
    "함수의 return 에는 전처리된 데이터 프레임이 나와야 함.\n",
    "return 할 데이터프레임은 인덱스가 0부터 재설정되어야 함."
   ]
  },
  {
   "cell_type": "code",
   "execution_count": 5,
   "metadata": {},
   "outputs": [],
   "source": [
    "def change_type(df):\n",
    "    ### start your code\n",
    "    # Age 컬럼을 Integer타입으로 변환\n",
    "    df['Age'] = df['Age'].astype('int')\n",
    "\n",
    "    sex_dummies = pd.get_dummies(df['Sex'])\n",
    "    pass_dummies = pd.get_dummies(df['Passenger Class'])\n",
    "    port_dummies = pd.get_dummies(df['Port of Embarkation'])\n",
    "\n",
    "    df.drop(['Sex', 'Passenger Class', 'Port of Embarkation'], inplace=True, axis=1)\n",
    "    \n",
    "    df_concat = pd.concat([df, sex_dummies, pass_dummies, port_dummies], axis=1)\n",
    "    return df_concat"
   ]
  },
  {
   "cell_type": "code",
   "execution_count": 6,
   "metadata": {},
   "outputs": [
    {
     "output_type": "stream",
     "name": "stdout",
     "text": [
      "(1043, 15)\n"
     ]
    }
   ],
   "source": [
    "data_processed = change_type(data_processed)\n",
    "print(data_processed.shape)\n"
   ]
  },
  {
   "cell_type": "code",
   "execution_count": null,
   "metadata": {},
   "outputs": [],
   "source": []
  }
 ],
 "metadata": {
  "kernelspec": {
   "name": "python390jvsc74a57bd0ac59ebe37160ed0dfa835113d9b8498d9f09ceb179beaac4002f036b9467c963",
   "display_name": "Python 3.9.0 64-bit"
  },
  "language_info": {
   "codemirror_mode": {
    "name": "ipython",
    "version": 3
   },
   "file_extension": ".py",
   "mimetype": "text/x-python",
   "name": "python",
   "nbconvert_exporter": "python",
   "pygments_lexer": "ipython3",
   "version": "3.9.0"
  },
  "metadata": {
   "interpreter": {
    "hash": "ac59ebe37160ed0dfa835113d9b8498d9f09ceb179beaac4002f036b9467c963"
   }
  }
 },
 "nbformat": 4,
 "nbformat_minor": 4
}