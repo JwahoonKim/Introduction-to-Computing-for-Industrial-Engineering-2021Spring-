{
 "cells": [
  {
   "cell_type": "markdown",
   "metadata": {},
   "source": [
    "### 제출 기한은 4월 7일 오후 11시 59분까지 입니다.\n",
    "\n",
    "### 파일명 틀릴 시에 20% 감점\n",
    "### D+1에 제출: -50%, 그 이후: 0점"
   ]
  },
  {
   "cell_type": "markdown",
   "metadata": {},
   "source": [
    "## Q1. 완전수 구하기 (30점)\n",
    "1부터 10000까지의 자연수 중 완전수를 리스트로 반환하는 함수를 작성하시오.\n",
    "\n",
    "- 어떤 숫자 n이 자신을 제외한 모든 약수들의 합과 같다면, 그 수는 완전수이다. (예: 6 = 1 + 2 + 3)\n",
    "\n",
    "- 1 ~ 10000 까지의 자연수 중 완전수를 리스트로 반환하는 함수를 작성하시오.\n",
    "\n",
    "ex) \n",
    "\n",
    "    get_perfenct_number() -> [6, ...]"
   ]
  },
  {
   "cell_type": "code",
   "execution_count": 1,
   "metadata": {},
   "outputs": [],
   "source": [
    "# 아래 pass, None을 수정\n",
    "\n",
    "def get_perfect_number():  # 입력값 없음.\n",
    "    perfectNum = []\n",
    "    for number in range(1, 10000):\n",
    "        sum = 0\n",
    "        for div in range(1, number):\n",
    "            if number % div == 0:\n",
    "                sum += div\n",
    "        if number == sum:\n",
    "            perfectNum.append(number)\n",
    "    return perfectNum"
   ]
  },
  {
   "cell_type": "code",
   "execution_count": 2,
   "metadata": {},
   "outputs": [
    {
     "output_type": "stream",
     "name": "stdout",
     "text": [
      "[6, 28, 496, 8128]\n"
     ]
    }
   ],
   "source": [
    "### 출력 결과 확인\n",
    "print(get_perfect_number())"
   ]
  },
  {
   "cell_type": "markdown",
   "metadata": {},
   "source": [
    "## Q2. 피보나치 수열 값 구하기 (40점)\n",
    "재귀함수를 사용하여 피보나치 수열의 인덱스 n을 받아 피보나치 수열의 값을 반환하는 함수를 작성하시오.\n",
    "\n",
    "- 피보나치 수열: 0번째 및 1번째 항의 값은 1이며 그 뒤의 모든 항은 바로 앞 두 항의 합인 수열.\n",
    "    \n",
    "- 1, 1, 2, 3, 5, 8, ...\n",
    "\n",
    "\n",
    "\n",
    "    fibonacci(n) -> integer\n",
    "    \n"
   ]
  },
  {
   "cell_type": "code",
   "execution_count": 4,
   "metadata": {},
   "outputs": [],
   "source": [
    "# 아래 pass, None을 수정\n",
    "\n",
    "def fibonacci(n) :  # n은 0이상의 정수\n",
    "    if n == 0 or n == 1:\n",
    "        return 1\n",
    "    return fibonacci(n - 1) + fibonacci(n - 2)"
   ]
  },
  {
   "cell_type": "code",
   "execution_count": 5,
   "metadata": {},
   "outputs": [
    {
     "output_type": "execute_result",
     "data": {
      "text/plain": [
       "[1,\n",
       " 1,\n",
       " 2,\n",
       " 3,\n",
       " 5,\n",
       " 8,\n",
       " 13,\n",
       " 21,\n",
       " 34,\n",
       " 55,\n",
       " 89,\n",
       " 144,\n",
       " 233,\n",
       " 377,\n",
       " 610,\n",
       " 987,\n",
       " 1597,\n",
       " 2584,\n",
       " 4181,\n",
       " 6765]"
      ]
     },
     "metadata": {},
     "execution_count": 5
    }
   ],
   "source": [
    "### 출력 결과 확인\n",
    "fibonacci_list = []\n",
    "for i in range(20):\n",
    "    fibonacci_list.append(fibonacci(i))\n",
    "\n",
    "fibonacci_list"
   ]
  },
  {
   "cell_type": "markdown",
   "metadata": {},
   "source": [
    "## Q2. 피보나치 수열 값 구하기 (40점)\n",
    "자연수 n이 입력값으로 주어졌을 때, 1, 2, 3의 합으로 나타낼 수 있는 방법의 수를 출력하는 함수를 작성하시오.\n",
    "\n",
    "예)\n",
    "- n = 3 이면 4 출력 ([1,1,1], [1,2], [2,1], [3])\n",
    "\n",
    "- n = 4 이면 7 출력 ([1,1,1,1], [1,1,2], [1,2,1], [2,1,1], [1,3], [3,1], [2,2])\n",
    "\n",
    "\n",
    "\n",
    "    sum_combination(n) -> integer\n",
    "    \n"
   ]
  },
  {
   "cell_type": "code",
   "execution_count": 6,
   "metadata": {},
   "outputs": [],
   "source": [
    "def sum_combination(n):  # n은 1이상의 자연수\n",
    "    if n == 1:\n",
    "        return 1\n",
    "    if n == 2:\n",
    "        return 2\n",
    "    if n == 3:\n",
    "        return 4\n",
    "    return sum_combination(n - 1) + sum_combination(n - 2) + sum_combination(n - 3)"
   ]
  },
  {
   "cell_type": "code",
   "execution_count": 7,
   "metadata": {},
   "outputs": [
    {
     "output_type": "execute_result",
     "data": {
      "text/plain": [
       "[1, 2, 4, 7, 13, 24, 44, 81, 149, 274]"
      ]
     },
     "metadata": {},
     "execution_count": 7
    }
   ],
   "source": [
    "### 출력 결과 확인\n",
    "[sum_combination(i) for i in range(1, 11)]"
   ]
  }
 ],
 "metadata": {
  "kernelspec": {
   "display_name": "Python 3",
   "language": "python",
   "name": "python3"
  },
  "language_info": {
   "codemirror_mode": {
    "name": "ipython",
    "version": 3
   },
   "file_extension": ".py",
   "mimetype": "text/x-python",
   "name": "python",
   "nbconvert_exporter": "python",
   "pygments_lexer": "ipython3",
   "version": "3.8.5-final"
  }
 },
 "nbformat": 4,
 "nbformat_minor": 2
}