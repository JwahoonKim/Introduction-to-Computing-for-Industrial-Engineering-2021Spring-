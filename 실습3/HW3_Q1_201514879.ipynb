{
 "metadata": {
  "language_info": {
   "codemirror_mode": {
    "name": "ipython",
    "version": 3
   },
   "file_extension": ".py",
   "mimetype": "text/x-python",
   "name": "python",
   "nbconvert_exporter": "python",
   "pygments_lexer": "ipython3",
   "version": "3.9.0-final"
  },
  "orig_nbformat": 2,
  "kernelspec": {
   "name": "python390jvsc74a57bd0ac59ebe37160ed0dfa835113d9b8498d9f09ceb179beaac4002f036b9467c963",
   "display_name": "Python 3.9.0 64-bit"
  },
  "metadata": {
   "interpreter": {
    "hash": "ac59ebe37160ed0dfa835113d9b8498d9f09ceb179beaac4002f036b9467c963"
   }
  }
 },
 "nbformat": 4,
 "nbformat_minor": 2,
 "cells": [
  {
   "cell_type": "code",
   "execution_count": 2,
   "metadata": {},
   "outputs": [
    {
     "output_type": "stream",
     "name": "stdout",
     "text": [
      "616\n"
     ]
    }
   ],
   "source": [
    "answer = 3\n",
    "numbers = list(map(int, input().split()))\n",
    "\n",
    "while(1):\n",
    "    count = 0\n",
    "    for number in numbers:\n",
    "        if answer % number == 0:\n",
    "            count += 1\n",
    "    if count >= 3:\n",
    "        break\n",
    "    answer += 1\n",
    "    \n",
    "print(answer)"
   ]
  }
 ]
}