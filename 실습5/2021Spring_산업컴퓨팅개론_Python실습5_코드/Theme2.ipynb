{
 "cells": [
  {
   "cell_type": "code",
   "execution_count": null,
   "metadata": {},
   "outputs": [],
   "source": [
    "# Prim's Algorithm\n",
    "\n",
    "V = 5\n",
    "G = [[0, 11, 78, 0, 0],\n",
    "     [11, 0, 91, 17, 48],\n",
    "     [78, 91, 0, 50, 65],\n",
    "     [0, 17, 50, 0, 32],\n",
    "     [0, 48, 65, 32, 0]]\n",
    "selected = [0, 0, 0, 0, 0]\n",
    "edge_count = 0\n",
    "selected[0] = 1\n",
    "\n",
    "while (edge_count < V - 1) :\n",
    "  min = float('inf')\n",
    "  x = 0\n",
    "  y = 0\n",
    "  for i in range(V) :\n",
    "    if (selected[i] == 1) :\n",
    "      for j in range(V) :\n",
    "        if (selected[j] == 0) and (G[i][j] != 0) :  \n",
    "          if min > G[i][j] :\n",
    "            min = G[i][j]\n",
    "            x = i\n",
    "            y = j\n",
    "  print(str(x) + \" - \" + str(y) + \" : \" + str(G[x][y]))\n",
    "  selected[y] = 1\n",
    "  edge_count = edge_count + 1"
   ]
  }
 ],
 "metadata": {
  "kernelspec": {
   "display_name": "Python 3",
   "language": "python",
   "name": "python3"
  },
  "language_info": {
   "codemirror_mode": {
    "name": "ipython",
    "version": 3
   },
   "file_extension": ".py",
   "mimetype": "text/x-python",
   "name": "python",
   "nbconvert_exporter": "python",
   "pygments_lexer": "ipython3",
   "version": "3.8.3"
  }
 },
 "nbformat": 4,
 "nbformat_minor": 4
}
