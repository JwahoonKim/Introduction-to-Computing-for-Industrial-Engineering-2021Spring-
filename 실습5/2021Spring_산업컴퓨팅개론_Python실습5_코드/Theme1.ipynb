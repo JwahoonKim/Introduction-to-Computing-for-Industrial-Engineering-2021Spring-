{
 "cells": [
  {
   "cell_type": "code",
   "execution_count": null,
   "metadata": {},
   "outputs": [],
   "source": [
    "stack = []\n",
    "\n",
    "stack.append(3)\n",
    "stack.append(1)\n",
    "stack.append(8)\n",
    "stack.append(9)\n",
    "\n",
    "stack.pop()\n",
    "stack.pop()\n",
    "\n",
    "print(stack)"
   ]
  },
  {
   "cell_type": "code",
   "execution_count": null,
   "metadata": {},
   "outputs": [],
   "source": [
    "# queue by list\n",
    "\n",
    "queue = []\n",
    "\n",
    "queue.append(4)\n",
    "queue.append(7)\n",
    "queue.append(2)\n",
    "\n",
    "queue.pop(0)\n",
    "\n",
    "print(queue)"
   ]
  },
  {
   "cell_type": "code",
   "execution_count": null,
   "metadata": {},
   "outputs": [],
   "source": [
    "# queue by Queue\n",
    "\n",
    "from queue import Queue\n",
    "\n",
    "num_queue = Queue()\n",
    "\n",
    "num_queue.put(5)\n",
    "num_queue.put(4)\n",
    "num_queue.put(7)\n",
    "\n",
    "num_queue.get()\n",
    "\n",
    "print(num_queue.queue)"
   ]
  },
  {
   "cell_type": "code",
   "execution_count": null,
   "metadata": {},
   "outputs": [],
   "source": [
    "# Linked List\n",
    "\n",
    "class Node :\n",
    "\n",
    "  def __init__(self, v, n = None) :\n",
    "    self.value = v\n",
    "    self.next = n\n",
    "\n",
    "class LinkedList :\n",
    "\n",
    "  def __init__(self) :\n",
    "      self.head = None\n",
    "\n",
    "  def printList(self) :\n",
    "    if self.head is None :\n",
    "      print('Linked List is empty!')\n",
    "      return\n",
    "    else :\n",
    "      print('<Linked List>')\n",
    "      link = self.head\n",
    "      while link :\n",
    "        print(link.value, '->', end = ' ')\n",
    "        link = link.next\n",
    "\n",
    "  def insertNode(self, v) :\n",
    "    if self.head is None :\n",
    "      self.head = Node(v)\n",
    "    else :  \n",
    "      self.head = Node(v, self.head)\n",
    "\n",
    "  def deleteNode(self) :\n",
    "    if self.head is None :\n",
    "      print(\"Linked List is empty!\")\n",
    "      return\n",
    "    else :\n",
    "      self.head = self.head.next\n",
    "\n",
    "l1 = LinkedList()\n",
    "l1.deleteNode()\n",
    "l1.insertNode('1st')\n",
    "l1.insertNode('2nd')\n",
    "l1.insertNode('3rd')\n",
    "l1.deleteNode()\n",
    "l1.printList()"
   ]
  }
 ],
 "metadata": {
  "kernelspec": {
   "display_name": "Python 3",
   "language": "python",
   "name": "python3"
  },
  "language_info": {
   "codemirror_mode": {
    "name": "ipython",
    "version": 3
   },
   "file_extension": ".py",
   "mimetype": "text/x-python",
   "name": "python",
   "nbconvert_exporter": "python",
   "pygments_lexer": "ipython3",
   "version": "3.8.3"
  }
 },
 "nbformat": 4,
 "nbformat_minor": 4
}
