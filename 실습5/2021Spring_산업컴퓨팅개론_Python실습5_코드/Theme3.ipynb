{
 "cells": [
  {
   "cell_type": "code",
   "execution_count": null,
   "metadata": {},
   "outputs": [],
   "source": [
    "# Binary Tree\n",
    "\n",
    "class Node :\n",
    "\n",
    "  def __init__(self, item) :\n",
    "    self.data = item\n",
    "    self.left = None\n",
    "    self.right = None\n",
    "        \n",
    "  def size(self) :\n",
    "    if self.left is not None :\n",
    "      l = self.left.size()\n",
    "    else :\n",
    "      l = 0\n",
    "    if self.right is not None :\n",
    "      r = self.right.size()\n",
    "    else :\n",
    "      r = 0\n",
    "    return (l + r + 1)\n",
    "        \n",
    "class BinaryTree :\n",
    "\n",
    "  def __init__(self, r) :\n",
    "    self.root = r\n",
    "\n",
    "  def size(self) :\n",
    "    if self.root is not None :\n",
    "      return self.root.size()\n",
    "    else :\n",
    "      return 0\n",
    "  \n",
    "n1 = Node('A')\n",
    "n2 = Node('B')\n",
    "n3 = Node('C')\n",
    "n4 = Node('D')\n",
    "n1.left = n2\n",
    "n1.right = n3\n",
    "n3.right = n4\n",
    "bt = BinaryTree(n1)\n",
    "print(bt.size())"
   ]
  }
 ],
 "metadata": {
  "kernelspec": {
   "display_name": "Python 3",
   "language": "python",
   "name": "python3"
  },
  "language_info": {
   "codemirror_mode": {
    "name": "ipython",
    "version": 3
   },
   "file_extension": ".py",
   "mimetype": "text/x-python",
   "name": "python",
   "nbconvert_exporter": "python",
   "pygments_lexer": "ipython3",
   "version": "3.8.3"
  }
 },
 "nbformat": 4,
 "nbformat_minor": 4
}
