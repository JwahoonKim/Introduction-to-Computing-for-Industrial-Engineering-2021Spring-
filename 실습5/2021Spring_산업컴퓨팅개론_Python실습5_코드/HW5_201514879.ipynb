{
 "metadata": {
  "language_info": {
   "codemirror_mode": {
    "name": "ipython",
    "version": 3
   },
   "file_extension": ".py",
   "mimetype": "text/x-python",
   "name": "python",
   "nbconvert_exporter": "python",
   "pygments_lexer": "ipython3",
   "version": "3.9.0"
  },
  "orig_nbformat": 2,
  "kernelspec": {
   "name": "python390jvsc74a57bd0ac59ebe37160ed0dfa835113d9b8498d9f09ceb179beaac4002f036b9467c963",
   "display_name": "Python 3.9.0 64-bit"
  },
  "metadata": {
   "interpreter": {
    "hash": "ac59ebe37160ed0dfa835113d9b8498d9f09ceb179beaac4002f036b9467c963"
   }
  }
 },
 "nbformat": 4,
 "nbformat_minor": 2,
 "cells": [
  {
   "cell_type": "code",
   "execution_count": 6,
   "metadata": {},
   "outputs": [
    {
     "output_type": "stream",
     "name": "stdout",
     "text": [
      "[2, 2, 2, 1]\n6\n"
     ]
    }
   ],
   "source": [
    "INF = int(1e9)\n",
    "\n",
    "graph = []\n",
    "costs = []\n",
    "edge_count = 0\n",
    "graph.append(list(map(int, input().split())))\n",
    "n = len(graph[0])\n",
    "visited = [False] * n\n",
    "visited[0] = True\n",
    "\n",
    "for _ in range(n - 1):\n",
    "    graph.append(list(map(int, input().split())))\n",
    "\n",
    "while (edge_count < n - 1):\n",
    "    min = INF\n",
    "    x, y = 0, 0    \n",
    "    for i in range(n):\n",
    "        if visited[i] == True:\n",
    "            for j in range(n):\n",
    "                if visited[j] == False and graph[i][j] != 0:\n",
    "                    if min > graph[i][j]:\n",
    "                        min = graph[i][j]\n",
    "                        x = i;\n",
    "                        y = j;\n",
    "    visited[y] = True\n",
    "    edge_count += 1\n",
    "    costs.append(min)\n",
    "\n",
    "total = sum(costs) - max(costs) // 2\n",
    "print(total)\n"
   ]
  },
  {
   "cell_type": "code",
   "execution_count": null,
   "metadata": {},
   "outputs": [],
   "source": []
  }
 ]
}